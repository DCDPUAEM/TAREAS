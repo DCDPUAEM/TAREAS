{
  "cells": [
    {
      "cell_type": "markdown",
      "metadata": {
        "id": "79HntI3555on"
      },
      "source": [
        "## Ejercicio Fizz Buzz\n",
        "\n",
        "Fizz buzz es un juego de palabras grupal para enseñar a los niños la división [[1]](https://en.wikipedia.org/wiki/Fizz_buzz). Los jugadores se turnan para contar de forma incremental, reemplazando cualquier número divisible por tres con la palabra \"Fizz\" y cualquier número divisible por cinco con la palabra \"Buzz\"."
      ]
    },
    {
      "cell_type": "markdown",
      "metadata": {
        "id": "VfbdDViz55oo"
      },
      "source": [
        "Un ejemplo del juego sería el siguiente:\n",
        "\n",
        "1, 2, Fizz, 4, Buzz, Fizz, 7, 8, Fizz, Buzz, 11, Fizz, 13, 14, Fizz Buzz, 16, 17, Fizz, 19, Buzz, Fizz, 22, 23, Fizz, Buzz, 26, Fizz, 28, 29, Fizz Buzz, 31, 32, Fizz, 34, Buzz, Fizz, ..."
      ]
    },
    {
      "cell_type": "markdown",
      "metadata": {
        "id": "4az43kkp55oo"
      },
      "source": [
        "- Escribe un programa en Python que dados dos números de inicio y fin de una secuencia, recorra la secuencia y escriba el número o la cadena \"Fizz\", \"Buzz\" correspondiente.  \n",
        "- Por ejemplo. Si los números de entrada son 13 y 19, el programa deberá escribir:\n",
        "    \n",
        "    13, 14, Fizz Buzz,16,17,Fizz,19"
      ]
    },
    {
      "cell_type": "code",
      "execution_count": 2,
      "metadata": {
        "id": "xnXd-CvL55oo",
        "outputId": "5df9341d-cd72-4122-9542-d418892b3279",
        "colab": {
          "base_uri": "https://localhost:8080/"
        }
      },
      "outputs": [
        {
          "output_type": "stream",
          "name": "stdout",
          "text": [
            "Dame dos números separados por un espacio: \n",
            "2 26\n",
            "n =  2\n",
            "m =  26\n",
            "La secuencia es de 2 hasta 26.\n"
          ]
        }
      ],
      "source": [
        "# LECTURA DE DATOS DE ENTRADA\n",
        "Ok = False\n",
        "it=1\n",
        "while Ok == False and it<=3:\n",
        "    print('Dame dos números separados por un espacio: ')\n",
        "    datos=input()\n",
        "\n",
        "    #OBTEN el primer dato de la secuencia\n",
        "    una_lista = datos.split()\n",
        "    un_elemento = una_lista[0]\n",
        "    n = int(un_elemento)\n",
        "    print('n = ',n)\n",
        "\n",
        "    #OBTEN el segundo número en una sola línea de instrucción\n",
        "    m = int(una_lista[1]) #CAMBIA (REESCRIBE) ESTA LINEA\n",
        "    print('m = ',m)\n",
        "\n",
        "    if m>n:\n",
        "        print('La secuencia es de {0} hasta {1}.'.format(n,m))\n",
        "        Ok = True\n",
        "    else:\n",
        "        print('El valor de \"m\" debe ser mayor al valor de \"n\"...')\n",
        "        it+=1"
      ]
    },
    {
      "cell_type": "code",
      "source": [
        "# EJERCICIO FIZZ BUZZ\n",
        "salida = []\n",
        "for i in range(n,m):\n",
        "  if i%3 == 0:\n",
        "    if i%5 == 0:\n",
        "      salida.append('Fizz-Buzz')\n",
        "    else:\n",
        "      salida.append('Fizz')\n",
        "  elif i%5 == 0:\n",
        "    salida.append('Buzz')\n",
        "  else:\n",
        "    salida.append(str(i))\n",
        "print(\", \".join(salida))"
      ],
      "metadata": {
        "colab": {
          "base_uri": "https://localhost:8080/"
        },
        "id": "T9RNwvTr_Bw7",
        "outputId": "edc429ae-b2c8-4c20-f7e4-3c7acd359345"
      },
      "execution_count": 12,
      "outputs": [
        {
          "output_type": "stream",
          "name": "stdout",
          "text": [
            "2, Fizz, 4, Buzz, Fizz, 7, 8, Fizz, Buzz, 11, Fizz, 13, 14, Fizz-Buzz, 16, 17, Fizz, 19, Buzz, Fizz, 22, 23, Fizz, Buzz\n"
          ]
        }
      ]
    }
  ],
  "metadata": {
    "colab": {
      "collapsed_sections": [],
      "name": "FizzBuzz.ipynb",
      "provenance": []
    },
    "kernelspec": {
      "display_name": "Python 3 (ipykernel)",
      "language": "python",
      "name": "python3"
    },
    "language_info": {
      "codemirror_mode": {
        "name": "ipython",
        "version": 3
      },
      "file_extension": ".py",
      "mimetype": "text/x-python",
      "name": "python",
      "nbconvert_exporter": "python",
      "pygments_lexer": "ipython3",
      "version": "3.7.11"
    }
  },
  "nbformat": 4,
  "nbformat_minor": 0
}