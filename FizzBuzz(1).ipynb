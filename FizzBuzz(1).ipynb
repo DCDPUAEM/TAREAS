{
  "nbformat": 4,
  "nbformat_minor": 0,
  "metadata": {
    "colab": {
      "name": "FizzBuzz.ipynb",
      "provenance": [],
      "collapsed_sections": []
    },
    "kernelspec": {
      "name": "python3",
      "display_name": "Python 3"
    },
    "language_info": {
      "name": "python"
    }
  },
  "cells": [
    {
      "cell_type": "markdown",
      "source": [
        "## Ejercicio Fizz Buzz"
      ],
      "metadata": {
        "id": "wFnLmw0mFkz5"
      }
    },
    {
      "cell_type": "code",
      "execution_count": 8,
      "metadata": {
        "colab": {
          "base_uri": "https://localhost:8080/"
        },
        "id": "DxVMgYn2fnSz",
        "outputId": "2734d290-a4c7-407c-f3cb-def96e08fefb"
      },
      "outputs": [
        {
          "output_type": "stream",
          "name": "stdout",
          "text": [
            "Vamos a jugar Fizz Buzz\n",
            "Escribiré Fizz cuando encuentre un numero divisible entre tres y \n",
            "Buzz cuando el número sea divisible entre 5\n",
            "Vamos a jugar...Crearemos la lista de números con la que vamos a jugar\n",
            "Dame el primer número de la lista: \n",
            "1\n",
            "Dame el último número de la lista: \n",
            "30\n",
            "La secuencia es de 1 a 30. Así la lista es: \n",
            "[1, 2, 3, 4, 5, 6, 7, 8, 9, 10, 11, 12, 13, 14, 15, 16, 17, 18, 19, 20, 21, 22, 23, 24, 25, 26, 27, 28, 29]\n",
            "La nueva lista es:  ['1', '2', 'Fizz', '4', 'Buzz', 'Fizz', '7', '8', 'Fizz', 'Buzz', '11', 'Fizz', '13', '14', 'Fizz Buzz', '16', '17', 'Fizz', '19', 'Buzz', 'Fizz', '22', '23', 'Fizz', 'Buzz', '26', 'Fizz', '28', '29']\n"
          ]
        }
      ],
      "source": [
        "#Intrucciones\n",
        "print('Vamos a jugar Fizz Buzz')\n",
        "print('''Escribiré Fizz cuando encuentre un numero divisible entre tres y \n",
        "Buzz cuando el número sea divisible entre 5''')\n",
        "print('Vamos a jugar...Crearemos la lista de números con la que vamos a jugar')\n",
        "\n",
        "\n",
        "#Obtenemos los números\n",
        "print('Dame el primer número de la lista: ')\n",
        "x=int(input())\n",
        "print('Dame el último número de la lista: ')\n",
        "y=int(input())\n",
        "\n",
        "#Verificamos la longitud de la lista\n",
        "dif = y - x\n",
        "if dif == 0:\n",
        "    print('No puedo jugar...Dame una lista más grande')\n",
        "    while dif < 3:\n",
        "       print('El primer número de la lista es: ', x)\n",
        "       m = x + 3\n",
        "       print(f'Dame un nuevo último número para la lista mayor a {m} : ')\n",
        "       y=int(input())\n",
        "       dif = y - x\n",
        "elif dif <= 2:\n",
        "    print('Son muy pocos numeros, intenta una secuencia más larga...')\n",
        "    while dif < 3:\n",
        "       print('El primer número de la lista es: ', x)\n",
        "       m= x + 3\n",
        "       print(f'Dame un nuevo último número para la lista mayor a {m} : ')\n",
        "       y=int(input())\n",
        "       dif= y - x\n",
        "print(f'La secuencia es de {x} a {y}. Así la lista es: ')\n",
        "m = list(range(x,y))\n",
        "print(m)\n",
        "nueva=list()\n",
        "#Iniciamos la sustitucion de valores\n",
        "for i in range(x,y):\n",
        "   if i%3 == 0 and i%5 == 0:\n",
        "      nueva.append('Fizz Buzz')\n",
        "   elif i%3 == 0:\n",
        "      nueva.append('Fizz')\n",
        "   elif i%5 == 0:\n",
        "      nueva.append('Buzz')\n",
        "   else:\n",
        "        nueva.append(str(i))\n",
        "print('La nueva lista es: ', nueva)\n",
        "\n"
      ]
    }
  ]
}