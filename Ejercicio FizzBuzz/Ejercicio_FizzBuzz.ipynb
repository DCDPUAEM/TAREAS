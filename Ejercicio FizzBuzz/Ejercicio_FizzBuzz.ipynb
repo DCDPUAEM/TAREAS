{
  "nbformat": 4,
  "nbformat_minor": 0,
  "metadata": {
    "colab": {
      "name": "Ejercicio_FizzBuzz.ipynb",
      "provenance": []
    },
    "kernelspec": {
      "name": "python3",
      "display_name": "Python 3"
    },
    "language_info": {
      "name": "python"
    }
  },
  "cells": [
    {
      "cell_type": "markdown",
      "source": [
        "Ejercicio 1:  Alumno Carlos Pineda-Antunez\n",
        "\n",
        "Ejercicio Fizz Buzz\n",
        "\n",
        "Fizz buzz es un juego de palabras grupal para enseñar a los niños la división [1]. Los jugadores se turnan para contar de forma incremental, reemplazando cualquier número divisible por tres con la palabra \"Fizz\" y cualquier número divisible por cinco con la palabra \"Buzz\"."
      ],
      "metadata": {
        "id": "eURTbJ4xOiH2"
      }
    },
    {
      "cell_type": "markdown",
      "source": [
        "================================================================================"
      ],
      "metadata": {
        "id": "M0C8C-HFROy9"
      }
    },
    {
      "cell_type": "code",
      "execution_count": 3,
      "metadata": {
        "id": "6YmVg8F6OUYQ",
        "colab": {
          "base_uri": "https://localhost:8080/"
        },
        "outputId": "6e0557c4-a1ee-458a-b040-1c193b120109"
      },
      "outputs": [
        {
          "name": "stdout",
          "output_type": "stream",
          "text": [
            "Ingresa el numero minimo y el numero maximo100 200\n"
          ]
        }
      ],
      "source": [
        "#Ejercicio FizzBuzz\n",
        "#Elaboró: Carlos Pineda-Antunez\n",
        "#Datos de entrada\n",
        "numeros=input(\"Ingresa el numero minimo y el numero maximo\")\n",
        "numeros=numeros.split()\n",
        "num_min= int(numeros[0])\n",
        "num_max= int(numeros[1])\n",
        "word_tres=\"Fizz\" \n",
        "word_cinco=\"Buzz\""
      ]
    },
    {
      "cell_type": "code",
      "source": [
        "# Ciclo para la colocación de \"FIzz Buzz\"\n",
        "for i in range(num_min,num_max):\n",
        "  if i%3 == 0 and i%5 == 0 : \n",
        "    print(word_tres+\" \"+word_cinco)\n",
        "  elif  i%3 == 0:\n",
        "        print(word_tres)\n",
        "  elif  i%5 == 0:\n",
        "        print(word_cinco)\n",
        "  else :\n",
        "    print(i)\n",
        " \n"
      ],
      "metadata": {
        "colab": {
          "base_uri": "https://localhost:8080/"
        },
        "id": "sjXjUpBHRaau",
        "outputId": "7009cddf-735f-494a-9152-2e261c125e30"
      },
      "execution_count": 4,
      "outputs": [
        {
          "output_type": "stream",
          "name": "stdout",
          "text": [
            "Buzz\n",
            "101\n",
            "Fizz\n",
            "103\n",
            "104\n",
            "Fizz Buzz\n",
            "106\n",
            "107\n",
            "Fizz\n",
            "109\n",
            "Buzz\n",
            "Fizz\n",
            "112\n",
            "113\n",
            "Fizz\n",
            "Buzz\n",
            "116\n",
            "Fizz\n",
            "118\n",
            "119\n",
            "Fizz Buzz\n",
            "121\n",
            "122\n",
            "Fizz\n",
            "124\n",
            "Buzz\n",
            "Fizz\n",
            "127\n",
            "128\n",
            "Fizz\n",
            "Buzz\n",
            "131\n",
            "Fizz\n",
            "133\n",
            "134\n",
            "Fizz Buzz\n",
            "136\n",
            "137\n",
            "Fizz\n",
            "139\n",
            "Buzz\n",
            "Fizz\n",
            "142\n",
            "143\n",
            "Fizz\n",
            "Buzz\n",
            "146\n",
            "Fizz\n",
            "148\n",
            "149\n",
            "Fizz Buzz\n",
            "151\n",
            "152\n",
            "Fizz\n",
            "154\n",
            "Buzz\n",
            "Fizz\n",
            "157\n",
            "158\n",
            "Fizz\n",
            "Buzz\n",
            "161\n",
            "Fizz\n",
            "163\n",
            "164\n",
            "Fizz Buzz\n",
            "166\n",
            "167\n",
            "Fizz\n",
            "169\n",
            "Buzz\n",
            "Fizz\n",
            "172\n",
            "173\n",
            "Fizz\n",
            "Buzz\n",
            "176\n",
            "Fizz\n",
            "178\n",
            "179\n",
            "Fizz Buzz\n",
            "181\n",
            "182\n",
            "Fizz\n",
            "184\n",
            "Buzz\n",
            "Fizz\n",
            "187\n",
            "188\n",
            "Fizz\n",
            "Buzz\n",
            "191\n",
            "Fizz\n",
            "193\n",
            "194\n",
            "Fizz Buzz\n",
            "196\n",
            "197\n",
            "Fizz\n",
            "199\n"
          ]
        }
      ]
    }
  ]
}