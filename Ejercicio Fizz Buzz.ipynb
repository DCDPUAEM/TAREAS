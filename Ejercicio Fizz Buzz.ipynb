{
 "cells": [
  {
   "cell_type": "markdown",
   "metadata": {},
   "source": [
    "# Ejercicio Fizz Buzz"
   ]
  },
  {
   "cell_type": "markdown",
   "metadata": {},
   "source": [
    "Fizz buzz es un juego de palabras grupal para enseñar a los niños la división [[1]](https://en.wikipedia.org/wiki/Fizz_buzz). Los jugadores se turnan para contar de forma incremental, reemplazando cualquier número divisible por tres con la palabra \"Fizz\" y cualquier número divisible por cinco con la palabra \"Buzz\"."
   ]
  },
  {
   "cell_type": "markdown",
   "metadata": {},
   "source": [
    "Un ejemplo del juego sería el siguiente:\n",
    "\n",
    "1, 2, Fizz, 4, Buzz, Fizz, 7, 8, Fizz, Buzz, 11, Fizz, 13, 14, Fizz Buzz, 16, 17, Fizz, 19, Buzz, Fizz, 22, 23, Fizz, Buzz, 26, Fizz, 28, 29, Fizz Buzz, 31, 32, Fizz, 34, Buzz, Fizz, ..."
   ]
  },
  {
   "cell_type": "markdown",
   "metadata": {},
   "source": [
    "- Escribe un programa en Python que dados dos números de inicio y fin de una secuencia, recorra la secuencia y escriba el número o la cadena \"Fizz\", \"Buzz\" correspondiente.  \n",
    "- Por ejemplo. Si los números de entrada son 13 y 19, el programa deberá escribir:\n",
    "    \n",
    "    13, 14, Fizz Buzz,16,17,Fizz,19"
   ]
  },
  {
   "cell_type": "markdown",
   "metadata": {},
   "source": [
    "\n",
    "## Solución:"
   ]
  },
  {
   "cell_type": "code",
   "execution_count": 27,
   "metadata": {},
   "outputs": [],
   "source": [
    "import numpy as np  \n",
    "import sys\n"
   ]
  },
  {
   "cell_type": "code",
   "execution_count": 17,
   "metadata": {},
   "outputs": [
    {
     "name": "stdout",
     "output_type": "stream",
     "text": [
      ""
     ]
    }
   ],
   "source": [
    " "
   ]
  },
  {
   "cell_type": "code",
   "execution_count": 44,
   "metadata": {},
   "outputs": [],
   "source": [
    "# function \n",
    "def FizzBuzz_Play(x, y):\n",
    "    '''\n",
    "    Esta función recibe dos parámetros y regresa la secuencia FIZZ BUZZ\n",
    "    input :\n",
    "        x : primer valor de la secuencia\n",
    "        y : segundo valor de la secuencia\n",
    "    output :\n",
    "        list : lista de la secuencia generada\n",
    "    '''\n",
    "    # convertir a entero\n",
    "    x, y = int(x), int(y)\n",
    "    \n",
    "    #  validación\n",
    "    if x <= 0 or y <= 0:\n",
    "        sys.exit('Los valores de \"x\" y \"y\" deben ser mayores a cero')\n",
    "    elif x > y:\n",
    "        sys.exit('El valor de \"x\" debe ser mayor al valor de \"y\"')\n",
    "    else:\n",
    "        print('El valor de x = {}, y el valor de y= {}'.format(x,y))\n",
    "    # inicialización del for\n",
    "    print('La secuencia es:')\n",
    "    numbers = range(x, y+1)\n",
    "    secuencia = []\n",
    "    for number in numbers:\n",
    "        if number%3 == 0:\n",
    "            value = 'Fizz'\n",
    "        elif number%5 == 0:\n",
    "            value = 'Buzz'\n",
    "        else:\n",
    "            value = number\n",
    "            \n",
    "        secuencia.append(value)\n",
    "    return secuencia\n",
    "        \n"
   ]
  },
  {
   "cell_type": "markdown",
   "metadata": {},
   "source": [
    "## Ejemplo 1:\n",
    "\n",
    "Generamos una secuencia con x=2, y y=80."
   ]
  },
  {
   "cell_type": "code",
   "execution_count": 50,
   "metadata": {},
   "outputs": [
    {
     "name": "stdout",
     "output_type": "stream",
     "text": [
      "El valor de x = 2, y el valor de y= 80\n",
      "La secuencia es:\n",
      "[2, 'Fizz', 4, 'Buzz', 'Fizz', 7, 8, 'Fizz', 'Buzz', 11, 'Fizz', 13, 14, 'Fizz', 16, 17, 'Fizz', 19, 'Buzz', 'Fizz', 22, 23, 'Fizz', 'Buzz', 26, 'Fizz', 28, 29, 'Fizz', 31, 32, 'Fizz', 34, 'Buzz', 'Fizz', 37, 38, 'Fizz', 'Buzz', 41, 'Fizz', 43, 44, 'Fizz', 46, 47, 'Fizz', 49, 'Buzz', 'Fizz', 52, 53, 'Fizz', 'Buzz', 56, 'Fizz', 58, 59, 'Fizz', 61, 62, 'Fizz', 64, 'Buzz', 'Fizz', 67, 68, 'Fizz', 'Buzz', 71, 'Fizz', 73, 74, 'Fizz', 76, 77, 'Fizz', 79, 'Buzz']\n"
     ]
    }
   ],
   "source": [
    "x = 2\n",
    "y = 80\n",
    "sequence = FizzBuzz_Play(x, y)\n",
    "print(sequence)"
   ]
  },
  {
   "cell_type": "markdown",
   "metadata": {},
   "source": [
    "# Ejemplo 2:\n",
    "\n",
    "Ahora generamos una secuencia con x>y para verificar que funcione correctamente."
   ]
  },
  {
   "cell_type": "code",
   "execution_count": 48,
   "metadata": {},
   "outputs": [
    {
     "ename": "SystemExit",
     "evalue": "El valor de \"x\" debe ser mayor al valor de \"y\"",
     "output_type": "error",
     "traceback": [
      "An exception has occurred, use %tb to see the full traceback.\n",
      "\u001b[1;31mSystemExit\u001b[0m\u001b[1;31m:\u001b[0m El valor de \"x\" debe ser mayor al valor de \"y\"\n"
     ]
    },
    {
     "name": "stderr",
     "output_type": "stream",
     "text": [
      "C:\\Users\\HP\\AppData\\Roaming\\Python\\Python39\\site-packages\\IPython\\core\\interactiveshell.py:3449: UserWarning: To exit: use 'exit', 'quit', or Ctrl-D.\n",
      "  warn(\"To exit: use 'exit', 'quit', or Ctrl-D.\", stacklevel=1)\n"
     ]
    }
   ],
   "source": [
    "x = 8\n",
    "y = 4\n",
    "sequence = FizzBuzz_Play(x, y)\n",
    "print(sequence)"
   ]
  },
  {
   "cell_type": "markdown",
   "metadata": {},
   "source": [
    "# Ejemplo 3:\n",
    "\n",
    "Para finalizar prueba generamos una secuencia con x=y."
   ]
  },
  {
   "cell_type": "code",
   "execution_count": 49,
   "metadata": {},
   "outputs": [
    {
     "name": "stdout",
     "output_type": "stream",
     "text": [
      "El valor de x = 8, y el valor de y= 8\n",
      "La secuencia es:\n",
      "[8]\n"
     ]
    }
   ],
   "source": [
    "x = 8\n",
    "y = 8\n",
    "sequence = FizzBuzz_Play(x, y)\n",
    "print(sequence)"
   ]
  },
  {
   "cell_type": "markdown",
   "metadata": {},
   "source": [
    "# Conclusión:\n",
    "\n",
    "De acuerdo a las pruebas realizadas, la función generada fue ejecutada correctamente."
   ]
  }
 ],
 "metadata": {
  "interpreter": {
   "hash": "28f429ac0c97e7f29d5b7283f4db1ef689a9fece3c40f414e7912139c5a2bf91"
  },
  "kernelspec": {
   "display_name": "Python 3.9.4 64-bit",
   "language": "python",
   "name": "python3"
  },
  "language_info": {
   "codemirror_mode": {
    "name": "ipython",
    "version": 3
   },
   "file_extension": ".py",
   "mimetype": "text/x-python",
   "name": "python",
   "nbconvert_exporter": "python",
   "pygments_lexer": "ipython3",
   "version": "3.9.4"
  },
  "orig_nbformat": 4
 },
 "nbformat": 4,
 "nbformat_minor": 2
}
