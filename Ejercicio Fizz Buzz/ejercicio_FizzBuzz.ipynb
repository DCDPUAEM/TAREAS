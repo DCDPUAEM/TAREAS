{
  "nbformat": 4,
  "nbformat_minor": 0,
  "metadata": {
    "colab": {
      "name": "Ejercicio_FizzBuzz.ipynb",
      "provenance": []
    },
    "kernelspec": {
      "name": "python3",
      "display_name": "Python 3"
    },
    "language_info": {
      "name": "python"
    }
  },
  "cells": [
    {
      "cell_type": "markdown",
      "source": [
        "Ejercicio 1:  Alumno Carlos Pineda-Antunez\n",
        "\n",
        "Ejercicio Fizz Buzz\n",
        "\n",
        "Fizz buzz es un juego de palabras grupal para enseñar a los niños la división [1]. Los jugadores se turnan para contar de forma incremental, reemplazando cualquier número divisible por tres con la palabra \"Fizz\" y cualquier número divisible por cinco con la palabra \"Buzz\"."
      ],
      "metadata": {
        "id": "eURTbJ4xOiH2"
      }
    },
    {
      "cell_type": "markdown",
      "source": [
        "================================================================================"
      ],
      "metadata": {
        "id": "M0C8C-HFROy9"
      }
    },
    {
      "cell_type": "code",
      "execution_count": 14,
      "metadata": {
        "id": "6YmVg8F6OUYQ"
      },
      "outputs": [],
      "source": [
        "#Datos de entrada\n",
        "\n",
        "num_min= 10\n",
        "num_max=31\n",
        "word_tres=\"Fizz\" \n",
        "word_cinco=\"Buzz\""
      ]
    },
    {
      "cell_type": "code",
      "source": [
        "# Ciclo para la colocación de \"FIzz Buzz\"\n",
        "for i in range(num_min,num_max):\n",
        "  if i%3 == 0 and i%5 == 0 : \n",
        "    print(word_tres+\" \"+word_cinco)\n",
        "  elif  i%3 == 0:\n",
        "        print(word_tres)\n",
        "  elif  i%5 == 0:\n",
        "        print(word_cinco)\n",
        "  else :\n",
        "    print(i)\n",
        " \n"
      ],
      "metadata": {
        "colab": {
          "base_uri": "https://localhost:8080/"
        },
        "id": "sjXjUpBHRaau",
        "outputId": "d95b574e-fb7a-483d-b9c6-9331a57b28ce"
      },
      "execution_count": 15,
      "outputs": [
        {
          "output_type": "stream",
          "name": "stdout",
          "text": [
            "Buzz\n",
            "11\n",
            "Fizz\n",
            "13\n",
            "14\n",
            "Fizz Buzz\n",
            "16\n",
            "17\n",
            "Fizz\n",
            "19\n",
            "Buzz\n",
            "Fizz\n",
            "22\n",
            "23\n",
            "Fizz\n",
            "Buzz\n",
            "26\n",
            "Fizz\n",
            "28\n",
            "29\n",
            "Fizz Buzz\n"
          ]
        }
      ]
    },
    {
      "cell_type": "code",
      "source": [
        ""
      ],
      "metadata": {
        "id": "vgAQpzGeaCqN"
      },
      "execution_count": null,
      "outputs": []
    }
  ]
}