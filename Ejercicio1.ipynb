{
  "nbformat": 4,
  "nbformat_minor": 0,
  "metadata": {
    "colab": {
      "name": "Ejercicio1.ipynb",
      "provenance": [],
      "collapsed_sections": []
    },
    "kernelspec": {
      "name": "python3",
      "display_name": "Python 3"
    },
    "language_info": {
      "name": "python"
    }
  },
  "cells": [
    {
      "cell_type": "code",
      "execution_count": 22,
      "metadata": {
        "colab": {
          "base_uri": "https://localhost:8080/"
        },
        "id": "XusKz9LlzcQx",
        "outputId": "6c32a0ab-08ed-4611-8b1a-2af66a2216c3"
      },
      "outputs": [
        {
          "output_type": "stream",
          "name": "stdout",
          "text": [
            "Dame el valor inicial 1\n",
            "Dame el valor final 20\n",
            "1, 2, Fizz, 4, Buzz, Fizz, 7, 8, Fizz, Buzz, 11, Fizz, 13, 14, Fizz Buzz, 16, 17, Fizz, 19, Buzz, \n"
          ]
        }
      ],
      "source": [
        "continua= True\n",
        "x= 0\n",
        "z= 0\n",
        "x= int(input(\"Dame el valor inicial \"))\n",
        "#print(type(x))\n",
        "z= int(input(\"Dame el valor final \"))\n",
        "#print(z)\n",
        "if x > z:\n",
        "  print(\"El primer valor no puede ser mayor que el segundo\")\n",
        "  continua= False\n",
        "elif z < x:\n",
        "  print(\"El segundo valor no puede ser menor que el primero\")\n",
        "  continua= False\n",
        "\n",
        "if continua:\n",
        "  numbers = range(x,z+1)\n",
        "  cadena= \"\"\n",
        "  for y in numbers:\n",
        "    if (y%3 == 0) and (y%5 == 0):\n",
        "      cadena= cadena+\"Fizz Buzz, \"\n",
        "    elif y % 3 == 0:\n",
        "      #print(\"Fizz\")\n",
        "      cadena= cadena+\"Fizz, \"\n",
        "    elif y % 5 == 0:\n",
        "      #print(\"Buzz\")\n",
        "      cadena= cadena+\"Buzz, \"\n",
        "    else:\n",
        "      #print(y)\n",
        "      cadena= cadena+ str(y)+\", \"\n",
        "  print(cadena)"
      ]
    }
  ]
}