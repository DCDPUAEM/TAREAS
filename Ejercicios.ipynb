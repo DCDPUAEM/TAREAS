{
  "cells": [
    {
      "cell_type": "markdown",
      "metadata": {
        "id": "4zMzLuXxBDdY"
      },
      "source": [
        "# Ejercicios bases de Python"
      ]
    },
    {
      "cell_type": "markdown",
      "metadata": {
        "id": "HAY8IBC4dM62"
      },
      "source": [
        "## Estructuras, asignación y funciones"
      ]
    },
    {
      "cell_type": "markdown",
      "metadata": {
        "id": "5OKzkyU6_1kB"
      },
      "source": [
        "### 1. Creando una agenda \n",
        "\n",
        "Utiliza los conceptos básicos de python para crear una agenda telefónica. Deberás completar las funciones crear_agenda, agregar_contacto, eliminimar_contacto y buscar_contacto que se encuentran en las siguientes celdas.\n",
        "\n",
        "* ```crear_agenda()```, esta función devuelve una nueva agenda vacía, elige el tipo de dato que creas adecuado para este proposito.\n",
        "* ```agregar_contacto(agenda, nombre, numero)```, esta función debe permitir agregar un nuevo contacto a la agenda, además si un contacto ya existe con el nombre recibido entonces debes almacenar su nuevo numero sin eliminar el anterior.\n",
        "* ```buscar_contacto(agenda, nombre)```, esta función debe de regresar el o los números registados de un contacto, si el contacto no existe entonces imprimer el mensaje \"Contacto no encontrado en la agenda\".\n",
        "* ```eliminar_contacto(agenda, nombre)```, esta función permite eliminar a un contacto de la agenda, si el contacto no existe entonces imprimer el mensaje \"Contacto no encontrado en la agenda\"."
      ]
    },
    {
      "cell_type": "code",
      "execution_count": 2,
      "metadata": {
        "id": "EJAb9gnbzhA4"
      },
      "outputs": [],
      "source": [
        "def crear_agenda():\n",
        "    agenda = {}\n",
        "    return agenda"
      ]
    },
    {
      "cell_type": "code",
      "execution_count": 12,
      "metadata": {
        "id": "QjsW0Y_M_x4j"
      },
      "outputs": [],
      "source": [
        "def agregar_contacto(agenda, nombre, numero):\n",
        "    \"\"\"\n",
        "    Tip:\n",
        "    Primero debes comprobar si existe el contacto\n",
        "    si no existe entonces crea uno nuevo y guarda\n",
        "    su nombre y numero\"\"\"\n",
        "    if nombre not in agenda.keys():\n",
        "      \n",
        "      numeros=[numero]\n",
        "      agenda[nombre]=numeros\n",
        "    else:\n",
        "      print(\"Este nombre ya existe, se agrega nuevo numero en la agenda\")\n",
        "      numeros=agenda.get(nombre)\n",
        "      numeros.append(numero)\n",
        "\n",
        "    return agenda"
      ]
    },
    {
      "cell_type": "code",
      "execution_count": 5,
      "metadata": {
        "id": "CkJpO_BtzhA5",
        "outputId": "5fba7047-997d-4904-b24b-b65ba8fedf50",
        "colab": {
          "base_uri": "https://localhost:8080/"
        }
      },
      "outputs": [
        {
          "output_type": "execute_result",
          "data": {
            "text/plain": [
              "{'Javier': ['1234567890']}"
            ]
          },
          "metadata": {},
          "execution_count": 5
        }
      ],
      "source": [
        "agenda = crear_agenda()\n",
        "agenda = agregar_contacto(agenda, \"Javier\", \"1234567890\")\n",
        "agenda"
      ]
    },
    {
      "cell_type": "code",
      "execution_count": 8,
      "metadata": {
        "id": "-xhGm-CXzhA7"
      },
      "outputs": [],
      "source": [
        "def buscar_contacto(agenda, nombre):\n",
        "    \"\"\"\n",
        "    Busca el contacto en la agenda, imprime su nombre y numero\n",
        "    Si tiene mas de un numero, imprime todos\n",
        "    Si el contacto no existe, imprime \"Contacto no encontrado en la agenda\"\n",
        "    \"\"\"\n",
        "    if nombre in agenda.keys():\n",
        "      print(\"Nombre: \"+ nombre+\" Numero(s): \", agenda.get(nombre))\n",
        "    else:\n",
        "      print(\"Este nombre no existe en la agenda\")\n",
        "    return"
      ]
    },
    {
      "cell_type": "code",
      "execution_count": 13,
      "metadata": {
        "id": "FzG19KdxzhA7",
        "outputId": "7453c260-d54d-4251-c427-144dd5fbaed0",
        "colab": {
          "base_uri": "https://localhost:8080/"
        }
      },
      "outputs": [
        {
          "output_type": "stream",
          "name": "stdout",
          "text": [
            "Nombre: Javier Numero(s):  ['1234567890']\n",
            "Este nombre ya existe, se agrega nuevo numero en la agenda\n",
            "Nombre: Javier Numero(s):  ['1234567890', '0987654321']\n"
          ]
        }
      ],
      "source": [
        "buscar_contacto(agenda, \"Javier\")\n",
        "agenda = agregar_contacto(agenda, \"Javier\", \"0987654321\")\n",
        "buscar_contacto(agenda, \"Javier\")"
      ]
    },
    {
      "cell_type": "code",
      "execution_count": 14,
      "metadata": {
        "id": "9c7BfxoZzhA7"
      },
      "outputs": [],
      "source": [
        "def eliminar_contacto(agenda, nombre):\n",
        "    \"\"\"\n",
        "    Elimina el contacto de la agenda\n",
        "    si el contacto no existe imprime \"Contacto no encontrado en la agenda\"\n",
        "    \"\"\"\n",
        "    if nombre in agenda.keys():\n",
        "      print(\"Se eliminó: \"+ nombre+\" Con numero(s): \", agenda.get(nombre))\n",
        "      agenda.pop(nombre)\n",
        "      \n",
        "    else:\n",
        "      print(\"Este nombre no existe en la agenda\")\n",
        "    return agenda"
      ]
    },
    {
      "cell_type": "code",
      "execution_count": 16,
      "metadata": {
        "id": "RkNtzllbBirX",
        "outputId": "28657fff-be8a-4786-bfa1-2fe2bcfd7355",
        "colab": {
          "base_uri": "https://localhost:8080/"
        }
      },
      "outputs": [
        {
          "output_type": "stream",
          "name": "stdout",
          "text": [
            "Se eliminó: Javier Con numero(s):  ['1234567890', '0987654321']\n"
          ]
        }
      ],
      "source": [
        "agenda = eliminar_contacto(agenda,\"Javier\")"
      ]
    },
    {
      "cell_type": "code",
      "source": [
        "agenda"
      ],
      "metadata": {
        "id": "Hlw4Gby6-Ikr",
        "outputId": "61b4af6d-5134-4b96-86e6-61ddd0f72709",
        "colab": {
          "base_uri": "https://localhost:8080/"
        }
      },
      "execution_count": 17,
      "outputs": [
        {
          "output_type": "execute_result",
          "data": {
            "text/plain": [
              "{}"
            ]
          },
          "metadata": {},
          "execution_count": 17
        }
      ]
    },
    {
      "cell_type": "markdown",
      "metadata": {
        "id": "3nzzkH6EA88D"
      },
      "source": [
        "# Ejercicios estadística"
      ]
    },
    {
      "cell_type": "markdown",
      "metadata": {
        "id": "e5g5CAaOc01h"
      },
      "source": [
        "### Función suma\n",
        "\n",
        "$$\n",
        "    suma(a) = \\sum_{i=1}^{n}a_i\n",
        "$$"
      ]
    },
    {
      "cell_type": "code",
      "execution_count": 18,
      "metadata": {
        "id": "RxWbpZ42c07g"
      },
      "outputs": [],
      "source": [
        "def suma(x):\n",
        "    suma = 0\n",
        "    for i in x:\n",
        "      suma=suma+i\n",
        "    return suma"
      ]
    },
    {
      "cell_type": "code",
      "source": [
        "suma([1, 2, 3, 4, 5])"
      ],
      "metadata": {
        "id": "hJ9qExXM-s6i",
        "outputId": "33936a06-99c6-4a67-8b57-486bb4a5fd49",
        "colab": {
          "base_uri": "https://localhost:8080/"
        }
      },
      "execution_count": 20,
      "outputs": [
        {
          "output_type": "execute_result",
          "data": {
            "text/plain": [
              "15"
            ]
          },
          "metadata": {},
          "execution_count": 20
        }
      ]
    },
    {
      "cell_type": "code",
      "execution_count": 25,
      "metadata": {
        "id": "mdiLISG-zhA-"
      },
      "outputs": [],
      "source": [
        "assert suma([1, 2, 3, 4, 5]) == 15"
      ]
    },
    {
      "cell_type": "markdown",
      "metadata": {
        "id": "Hc30xEPMc1QC"
      },
      "source": [
        "### Función promedio.\n",
        "\n",
        "$$\n",
        "\t\\bar{x} = \\dfrac{\\sum_{i=1}^{n}x_i}{n}\n",
        "$$"
      ]
    },
    {
      "cell_type": "code",
      "execution_count": 28,
      "metadata": {
        "id": "2KyU6PyCc1VM"
      },
      "outputs": [],
      "source": [
        "def promedio(x):\n",
        "    promedio = 0\n",
        "    for i in x:\n",
        "      promedio=promedio+i\n",
        "    promedio=promedio/len(x)\n",
        "    return promedio"
      ]
    },
    {
      "cell_type": "markdown",
      "source": [
        "promedio"
      ],
      "metadata": {
        "id": "5umEkkKw_lOV"
      }
    },
    {
      "cell_type": "code",
      "execution_count": 31,
      "metadata": {
        "id": "7GM2YpXVzhBA"
      },
      "outputs": [],
      "source": [
        "assert promedio([1, 2, 3, 4, 5]) == 3, \"Error en promedio\""
      ]
    },
    {
      "cell_type": "markdown",
      "metadata": {
        "id": "ImMoE5w4c1of"
      },
      "source": [
        "### Función varianza.\n",
        "$$\n",
        "\\sigma^2 = \\frac{1}{n} \\sum_{i=1}^{n}(x_i - \\bar{x})^2\n",
        "$$"
      ]
    },
    {
      "cell_type": "code",
      "execution_count": 37,
      "metadata": {
        "id": "h0w2PHhLc1tG"
      },
      "outputs": [],
      "source": [
        "def var(x):\n",
        "    var = 0\n",
        "    p=promedio(x)\n",
        "    for i in x:\n",
        "      var=var+((i-p)*(i-p))\n",
        "    var=var/len(x)\n",
        "    return var"
      ]
    },
    {
      "cell_type": "code",
      "execution_count": 38,
      "metadata": {
        "id": "puEjtv4OzhBA"
      },
      "outputs": [],
      "source": [
        "assert var([1, 2, 3, 4, 5]) == 2, \"Error en var\""
      ]
    },
    {
      "cell_type": "markdown",
      "metadata": {
        "id": "fxxJeFhbA9Cq"
      },
      "source": [
        "# Ejercicios álgebra lineal"
      ]
    },
    {
      "cell_type": "markdown",
      "metadata": {
        "id": "6dXp-owNeqP9"
      },
      "source": [
        "## Vectores con listas"
      ]
    },
    {
      "cell_type": "markdown",
      "metadata": {
        "id": "9Du0_NsNc81H"
      },
      "source": [
        "### Ones"
      ]
    },
    {
      "cell_type": "markdown",
      "metadata": {
        "id": "DKp9wDLPEZdz"
      },
      "source": [
        "Completa la función ones1D que recibe como parámetros un entero $n$ y retorna una lista de tamaño $n$ con todos sus elementos con el valor $1$.\n",
        "\n",
        "Ejemplo:\n",
        "\n",
        "```\n",
        ">>> ones(5)\n",
        "[1, 1, 1, 1, 1]\n",
        "```\n",
        "\n"
      ]
    },
    {
      "cell_type": "code",
      "execution_count": 39,
      "metadata": {
        "id": "l4j5ka46EulY"
      },
      "outputs": [],
      "source": [
        "def ones_1d(n):\n",
        "    ones_list = []\n",
        "    for i in range(n):\n",
        "      ones_list.append(1)\n",
        "    return ones_list  "
      ]
    },
    {
      "cell_type": "markdown",
      "metadata": {
        "id": "TBYV7LYqdSJo"
      },
      "source": [
        "Ejecuta la siguiente celda para comprobar la función ones1D:"
      ]
    },
    {
      "cell_type": "code",
      "execution_count": 40,
      "metadata": {
        "id": "QUlEotVIdRno",
        "outputId": "28aed2f7-091c-4133-a456-b90899b2a1aa",
        "colab": {
          "base_uri": "https://localhost:8080/"
        }
      },
      "outputs": [
        {
          "output_type": "stream",
          "name": "stdout",
          "text": [
            "La funcion es correcta\n"
          ]
        }
      ],
      "source": [
        "assert len(ones_1d(10)) == 10 and  ones_1d(3).count(1) == 3 and sum(ones_1d(5)) == 5  , \"error en la funcion ones_1d\"\n",
        "print(\"La funcion es correcta\")"
      ]
    },
    {
      "cell_type": "markdown",
      "metadata": {
        "id": "b8SaUCdYzhBC"
      },
      "source": [
        "### Ones 2D"
      ]
    },
    {
      "cell_type": "markdown",
      "metadata": {
        "id": "lxOMWQXXEZp3"
      },
      "source": [
        "Completa la función ones_2d que recibe como parámetros un entero $n$ y un entero $m$ y retorna una lista con $n$ sub-listas cada una de tamaño $m$ con todos sus elementos con el valor 1. En otras palabras, una matriz $n \\times m$ con sus elementos iniciados con valor $1$.\n",
        "\n",
        "Ejemplo:\n",
        "\n",
        "\n",
        "\n",
        "```\n",
        ">>> ones_2d(2, 3)\n",
        "[[1, 1, 1], [1, 1, 1]]\n",
        "```\n",
        "\n"
      ]
    },
    {
      "cell_type": "code",
      "execution_count": 43,
      "metadata": {
        "id": "-xfFmttxFRCw"
      },
      "outputs": [],
      "source": [
        "def ones_2d(m, n):\n",
        "    ones_ll = []\n",
        "    for i in range(m) :\n",
        "      ones_ll.append(ones_1d(n))\n",
        "    return ones_ll"
      ]
    },
    {
      "cell_type": "markdown",
      "metadata": {
        "id": "yugjWXI9eI4P"
      },
      "source": [
        "Ejecuta la siguiente celda para comprobar la función ones2D:"
      ]
    },
    {
      "cell_type": "code",
      "execution_count": 44,
      "metadata": {
        "id": "i7sZXWsveJBC",
        "outputId": "c33218b3-38d5-41cd-f945-fcb5622d4ca9",
        "colab": {
          "base_uri": "https://localhost:8080/"
        }
      },
      "outputs": [
        {
          "output_type": "stream",
          "name": "stdout",
          "text": [
            "La funcion es correcta\n"
          ]
        }
      ],
      "source": [
        "assert len(ones_2d(2, 3)) == 2 and len(ones_2d(2, 3)[0]) == 3 and sum([x_i for sl in ones_2d(3, 2) for x_i in sl]) == 6 , \"error en la funcion ones_2d\"\n",
        "print(\"La funcion es correcta\")"
      ]
    },
    {
      "cell_type": "markdown",
      "metadata": {
        "id": "EwVykdiYzhBD"
      },
      "source": [
        "### Producto punto (inner)"
      ]
    },
    {
      "cell_type": "markdown",
      "metadata": {
        "id": "xy0p5QxEzhBE"
      },
      "source": [
        "Completa la función ones_2d que recibe como parametros dos listas a, b de la misma longitúd y retorna el producto punto de ambos.\n",
        "\n",
        "El producto punto está definido como:\n",
        "\n",
        "$$a = [a_1 a_2 ... a_n] \\: y \\: b = [b_1 b_2 ... b_n]$$\n",
        "\n",
        "$$\n",
        "a \\cdot b = a_1*b_1 + a_2*b_2 + \\dots + a_n*b_n\n",
        "$$"
      ]
    },
    {
      "cell_type": "code",
      "execution_count": 48,
      "metadata": {
        "id": "OvNCcnXLBBc0"
      },
      "outputs": [],
      "source": [
        "def inner(a, b):\n",
        "    suma=0\n",
        "    if len(a)==len(b):\n",
        "      for i in range(len(a)):\n",
        "        suma=suma+a[i]*b[i]\n",
        "    else:\n",
        "        print(\"Las dimensiones de a y b no corresponden\")\n",
        "    return suma"
      ]
    },
    {
      "cell_type": "code",
      "source": [
        "a=[1, 2, 3]\n",
        "b= [1, 2 ,3]\n",
        "a[1]*b[1]"
      ],
      "metadata": {
        "id": "yY8KZHo0D-9j",
        "outputId": "15cd0051-46dd-400c-8c3c-aa73b0e62ee0",
        "colab": {
          "base_uri": "https://localhost:8080/"
        }
      },
      "execution_count": 47,
      "outputs": [
        {
          "output_type": "execute_result",
          "data": {
            "text/plain": [
              "4"
            ]
          },
          "metadata": {},
          "execution_count": 47
        }
      ]
    },
    {
      "cell_type": "code",
      "execution_count": 49,
      "metadata": {
        "id": "-fDkDjKczhBE",
        "outputId": "ac09cd1d-e230-4456-8e24-f5611ad3a93a",
        "colab": {
          "base_uri": "https://localhost:8080/"
        }
      },
      "outputs": [
        {
          "output_type": "stream",
          "name": "stdout",
          "text": [
            "Correcto\n"
          ]
        }
      ],
      "source": [
        "assert inner([1, 2, 3], [1, 2 ,3]) == 14, \"Error en inner\"\n",
        "print(\"Correcto\")"
      ]
    },
    {
      "cell_type": "markdown",
      "metadata": {
        "id": "6B7dwCC7eqnL"
      },
      "source": [
        "## Matrices con listas de listas"
      ]
    },
    {
      "cell_type": "markdown",
      "metadata": {
        "id": "l36RNkUqexzU"
      },
      "source": [
        "### Matriz identidad\n",
        "$$\n",
        "\tI_{ij} = \\begin{cases}\n",
        "\t\t1 & i=j\\\\\n",
        "\t\t0 & i \\neq j\\\\\n",
        "\t\\end{cases}\n",
        "$$"
      ]
    },
    {
      "cell_type": "code",
      "execution_count": 50,
      "metadata": {
        "id": "afcnX6E_eqvP"
      },
      "outputs": [],
      "source": [
        "def eye(n):\n",
        "    '''\n",
        "    Esta funcion debe regresar la matriz identidad de tamano nxn\n",
        "    '''\n",
        "    I = []\n",
        "    for i in range(n):\n",
        "      R = []\n",
        "      for j in range(n):\n",
        "        if i==j:\n",
        "          R.append(1)\n",
        "        else:\n",
        "          R.append(0)\n",
        "      I.append(R)  \n",
        "    return I"
      ]
    },
    {
      "cell_type": "code",
      "execution_count": 51,
      "metadata": {
        "id": "aGgCGhqrzhBF"
      },
      "outputs": [],
      "source": [
        "assert eye(2) == [[1, 0], [0, 1]], \"Error en eye\""
      ]
    },
    {
      "cell_type": "markdown",
      "metadata": {
        "id": "jLXu_k7CfCqF"
      },
      "source": [
        "### Matriz transpuesta\n",
        "\n",
        "$$C = A^T \\Leftrightarrow c_{ij} = a{ji}$$\n",
        "\n",
        "Por ejemplo, si:\n",
        "\t$$\n",
        "\tA = \\begin{bmatrix}\n",
        "\ta_{11} & a_{12}  \\\\\n",
        "\ta_{21} & a_{22}  \\\\\n",
        "\ta_{31} & a_{32}  \\\\\n",
        "\t\\end{bmatrix}\n",
        "\t$$\n",
        "\tentonces\n",
        "\t$$\n",
        "\tA^T = \\begin{bmatrix}\n",
        "\ta_{11} & a_{21} & a_{31} \\\\\n",
        "\ta_{12} & a_{22} & a_{32} \\\\\n",
        "\t\\end{bmatrix}\n",
        "\t$$"
      ]
    },
    {
      "cell_type": "code",
      "execution_count": 65,
      "metadata": {
        "id": "zKWY09JhfEfa"
      },
      "outputs": [],
      "source": [
        "def traspose(A):\n",
        "    '''\n",
        "    Esta funcion debe regresar la transpuesta de A\n",
        "    '''\n",
        "    A_t = []\n",
        "    for j in range(len(A[0])):\n",
        "      R=[]\n",
        "      for i in range(len(A)):\n",
        "        R.append(A[i][j])\n",
        "      A_t.append(R)\n",
        "    return A_t"
      ]
    },
    {
      "cell_type": "code",
      "source": [
        "A=[[1, 2], [3, 4], [5, 6]]\n",
        "traspose(A)"
      ],
      "metadata": {
        "id": "7uAKYrYrKOin",
        "outputId": "e292712b-9563-482f-cc1d-262a83c6543a",
        "colab": {
          "base_uri": "https://localhost:8080/"
        }
      },
      "execution_count": 66,
      "outputs": [
        {
          "output_type": "execute_result",
          "data": {
            "text/plain": [
              "[[1, 3, 5], [2, 4, 6]]"
            ]
          },
          "metadata": {},
          "execution_count": 66
        }
      ]
    },
    {
      "cell_type": "code",
      "execution_count": 67,
      "metadata": {
        "id": "bl1lclWhzhBF"
      },
      "outputs": [],
      "source": [
        "assert traspose([[1, 2], [3, 4], [5, 6]]) == [[1, 3, 5], [2, 4, 6]], \"Error en traspose\""
      ]
    },
    {
      "cell_type": "markdown",
      "metadata": {
        "id": "YnYXfNmizhBF"
      },
      "source": [
        "### Valida multiplicación\n",
        "\n",
        "```True``` si\n",
        "$$A \\qquad es \\qquad mxn$$\n",
        "y\n",
        "$$B \\qquad es \\qquad nxp$$\n",
        "```False``` en otro caso"
      ]
    },
    {
      "cell_type": "code",
      "execution_count": 68,
      "metadata": {
        "id": "QS3a6v3CzhBG"
      },
      "outputs": [],
      "source": [
        "def validate_mat_mul(A, B):\n",
        "    val = False\n",
        "    val=len(A[0])==len(B)\n",
        "    return val"
      ]
    },
    {
      "cell_type": "code",
      "execution_count": 69,
      "metadata": {
        "id": "5bhyeBnMzhBG"
      },
      "outputs": [],
      "source": [
        "assert validate_mat_mul([[1, 2], [3, 4]], [[5, 6], [7, 8]]) and \\\n",
        "validate_mat_mul([[1, 2], [3, 4], [5, 6]], [[1, 2, 3], [4, 5, 6]]) and \\\n",
        "not validate_mat_mul([[1, 2, 3], [4, 5, 6], [7, 8, 9]], [[1, 2], [3, 4]]), \"Error en validate_mat_mul\""
      ]
    },
    {
      "cell_type": "markdown",
      "metadata": {
        "id": "RY2TgoGye3pV"
      },
      "source": [
        "### Multiplicación de matrices\n",
        "\n",
        "Si $A \\in \\mathbb{R}^{m \\times n}$ y $B \\in \\mathbb{R}^{n \\times p}$ entonces:\n",
        "$$\n",
        "C = A B \\in \\mathbb{R}^{m \\times p}\\Leftrightarrow c_{ij} = \\sum_{k=1}^{n}a_{ik} b_{kj}\n",
        "$$"
      ]
    },
    {
      "cell_type": "code",
      "execution_count": 72,
      "metadata": {
        "id": "DxFQFm51e-A1"
      },
      "outputs": [],
      "source": [
        "def mat_mul(A, B):\n",
        "  C =[]\n",
        "  if validate_mat_mul(A,B)==True:\n",
        "    B_t=traspose(B)\n",
        "     \n",
        "    for i in A:\n",
        "      R=[]\n",
        "      for j in B_t: \n",
        "        R.append(inner(i,j))\n",
        "      C.append(R)\n",
        "  return C\n",
        "\n",
        "\n",
        "   \n",
        "    "
      ]
    },
    {
      "cell_type": "code",
      "execution_count": 73,
      "metadata": {
        "id": "C_Z-q0k7zhBH"
      },
      "outputs": [],
      "source": [
        "assert mat_mul([[1, 2], [3, 4], [5, 6]], [[2, 2], [2, 2]]) == [[6, 6], [14, 14], [22, 22]], \"Error en mat_mul\""
      ]
    }
  ],
  "metadata": {
    "colab": {
      "collapsed_sections": [],
      "name": "Ejercicios.ipynb",
      "provenance": []
    },
    "kernelspec": {
      "display_name": "Python 3 (ipykernel)",
      "language": "python",
      "name": "python3"
    },
    "language_info": {
      "codemirror_mode": {
        "name": "ipython",
        "version": 3
      },
      "file_extension": ".py",
      "mimetype": "text/x-python",
      "name": "python",
      "nbconvert_exporter": "python",
      "pygments_lexer": "ipython3",
      "version": "3.7.11"
    }
  },
  "nbformat": 4,
  "nbformat_minor": 0
}